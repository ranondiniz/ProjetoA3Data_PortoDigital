{
 "cells": [
  {
   "cell_type": "code",
   "execution_count": 1,
   "id": "f7aa4210-ca43-4323-8a8f-8318c6701782",
   "metadata": {
    "tags": []
   },
   "outputs": [],
   "source": [
    "import requests"
   ]
  },
  {
   "cell_type": "code",
   "execution_count": 2,
   "id": "4f62b67a-181c-4966-8231-fecaa55e8de9",
   "metadata": {
    "tags": []
   },
   "outputs": [],
   "source": [
    "url_1 = \"https://download.inep.gov.br/microdados/microdados_censo_da_educacao_superior_2020.zip\"\n",
    "url_2 = \"https://download.inep.gov.br/microdados/microdados_censo_da_educacao_superior_2019.zip\"\n",
    "url_3 = \"https://download.inep.gov.br/microdados/microdados_censo_da_educacao_superior_2018.zip\"\n",
    "url_4 = \"https://download.inep.gov.br/microdados/microdados_censo_da_educacao_superior_2017.zip\"\n",
    "url_5 = \"https://download.inep.gov.br/microdados/microdados_censo_da_educacao_superior_2016.zip\""
   ]
  },
  {
   "cell_type": "code",
   "execution_count": 3,
   "id": "40d360a0-fc17-4b91-92a9-57b82658daa6",
   "metadata": {
    "tags": []
   },
   "outputs": [
    {
     "name": "stderr",
     "output_type": "stream",
     "text": [
      "/opt/conda/lib/python3.10/site-packages/urllib3/connectionpool.py:1056: InsecureRequestWarning: Unverified HTTPS request is being made to host 'download.inep.gov.br'. Adding certificate verification is strongly advised. See: https://urllib3.readthedocs.io/en/1.26.x/advanced-usage.html#ssl-warnings\n",
      "  warnings.warn(\n",
      "/opt/conda/lib/python3.10/site-packages/urllib3/connectionpool.py:1056: InsecureRequestWarning: Unverified HTTPS request is being made to host 'download.inep.gov.br'. Adding certificate verification is strongly advised. See: https://urllib3.readthedocs.io/en/1.26.x/advanced-usage.html#ssl-warnings\n",
      "  warnings.warn(\n",
      "/opt/conda/lib/python3.10/site-packages/urllib3/connectionpool.py:1056: InsecureRequestWarning: Unverified HTTPS request is being made to host 'download.inep.gov.br'. Adding certificate verification is strongly advised. See: https://urllib3.readthedocs.io/en/1.26.x/advanced-usage.html#ssl-warnings\n",
      "  warnings.warn(\n",
      "/opt/conda/lib/python3.10/site-packages/urllib3/connectionpool.py:1056: InsecureRequestWarning: Unverified HTTPS request is being made to host 'download.inep.gov.br'. Adding certificate verification is strongly advised. See: https://urllib3.readthedocs.io/en/1.26.x/advanced-usage.html#ssl-warnings\n",
      "  warnings.warn(\n",
      "/opt/conda/lib/python3.10/site-packages/urllib3/connectionpool.py:1056: InsecureRequestWarning: Unverified HTTPS request is being made to host 'download.inep.gov.br'. Adding certificate verification is strongly advised. See: https://urllib3.readthedocs.io/en/1.26.x/advanced-usage.html#ssl-warnings\n",
      "  warnings.warn(\n"
     ]
    }
   ],
   "source": [
    "dado_1 = requests.get(url_1, verify=False)\n",
    "dado_2 = requests.get(url_2, verify=False)\n",
    "dado_3 = requests.get(url_3, verify=False)\n",
    "dado_4 = requests.get(url_4, verify=False)\n",
    "dado_5 = requests.get(url_5, verify=False)"
   ]
  },
  {
   "cell_type": "code",
   "execution_count": 4,
   "id": "f51fc33b-df6c-4a1e-8b38-83b18640280f",
   "metadata": {
    "tags": []
   },
   "outputs": [],
   "source": [
    "import zipfile\n",
    "\n",
    "with open('dado_1.zip', 'wb') as f:\n",
    "\tf.write(dado_1.content)\n",
    "\t\n",
    "with open('dado_2.zip', 'wb') as f:\n",
    "\tf.write(dado_2.content)\n",
    "\n",
    "with open('dado_3.zip', 'wb') as f:\n",
    "\tf.write(dado_3.content)\n",
    "\n",
    "with open('dado_4.zip', 'wb') as f:\n",
    "\tf.write(dado_4.content)\n",
    "\n",
    "with open('dado_5.zip', 'wb') as f:\n",
    "\tf.write(dado_5.content)\n",
    "\t\n",
    "with zipfile.ZipFile('dado_1.zip', 'r') as zip_ref:\n",
    "\tzip_ref.extractall(\"./data\")\n",
    "\t\n",
    "with zipfile.ZipFile('dado_2.zip', 'r') as zip_ref:\n",
    "\tzip_ref.extractall(\"./data\")\n",
    "\n",
    "with zipfile.ZipFile('dado_3.zip', 'r') as zip_ref:\n",
    "\tzip_ref.extractall(\"./data\")\n",
    "\n",
    "with zipfile.ZipFile('dado_4.zip', 'r') as zip_ref:\n",
    "\tzip_ref.extractall(\"./data\")\n",
    "\n",
    "with zipfile.ZipFile('dado_5.zip', 'r') as zip_ref:\n",
    "\tzip_ref.extractall(\"./data\")\n"
   ]
  },
  {
   "cell_type": "code",
   "execution_count": 5,
   "id": "379e2fd0-df72-42b2-b077-343e1f37660b",
   "metadata": {
    "tags": []
   },
   "outputs": [],
   "source": [
    "from pyspark.sql import SparkSession\n",
    "from pyspark.sql.functions import when, col, lower"
   ]
  },
  {
   "cell_type": "code",
   "execution_count": 6,
   "id": "e4f3db1d-9322-41d9-976c-48cdf6c558a6",
   "metadata": {
    "tags": []
   },
   "outputs": [],
   "source": [
    "spark = SparkSession \\\n",
    "        .builder \\\n",
    "        .config(\"spark.sql.repl.eagerEval.enabled\", \"True\") \\\n",
    "        .config(\"spark.sql.repl.eagerEval.maxNumRows\", \"150\") \\\n",
    "        .getOrCreate()\n"
   ]
  },
  {
   "cell_type": "code",
   "execution_count": 7,
   "id": "7c47a41c-bcee-4d12-99b7-0a522d8618d8",
   "metadata": {
    "tags": []
   },
   "outputs": [],
   "source": [
    "df_1 = spark.read.csv(\"data/Microdados do Censo da Educaç╞o Superior 2020/dados/MICRODADOS_CADASTRO_IES_2020.CSV\", sep=';', header=True, inferSchema=True)\n",
    "\n",
    "df_2 = spark.read.csv(\"data/Microdados do Censo da Educaç╞o Superior 2019/dados/MICRODADOS_CADASTRO_IES_2019.CSV\", sep=';', header=True, inferSchema=True)\n",
    "\n",
    "df_3 = spark.read.csv(\"data/Microdados do Censo da Educaç╞o Superior 2018/dados/MICRODADOS_CADASTRO_IES_2018.CSV\", sep=';', header=True, inferSchema=True)\n",
    "\n",
    "df_4 = spark.read.csv(\"data/Microdados do Censo da Educaç╞o Superior 2017/dados/MICRODADOS_CADASTRO_IES_2017.CSV\", sep=';', header=True, inferSchema=True)\n",
    "\n",
    "df_5 = spark.read.csv(\"data/Microdados do Censo da Educaç╞o Superior 2016/dados/MICRODADOS_CADASTRO_IES_2016.CSV\", sep=';', header=True, inferSchema=True)\n"
   ]
  },
  {
   "cell_type": "code",
   "execution_count": 8,
   "id": "1d0856e4-1759-4916-9774-6b4c191729d9",
   "metadata": {
    "tags": []
   },
   "outputs": [],
   "source": [
    "for col in df_1.columns:\n",
    "    df_1 = df_1.withColumnRenamed(col, col.lower())\n",
    "for col in df_2.columns:\n",
    "    df_2 = df_2.withColumnRenamed(col, col.lower())\n",
    "for col in df_3.columns:\n",
    "    df_3 = df_3.withColumnRenamed(col, col.lower())\n",
    "for col in df_4.columns:\n",
    "    df_4 = df_4.withColumnRenamed(col, col.lower())\n",
    "for col in df_5.columns:\n",
    "    df_5 = df_5.withColumnRenamed(col, col.lower())\n"
   ]
  },
  {
   "cell_type": "code",
   "execution_count": 9,
   "id": "430cae93-6fdb-415d-9f15-cf1922ca9fbc",
   "metadata": {
    "tags": []
   },
   "outputs": [],
   "source": [
    "df_parcial_1 = df_1.union(df_2)"
   ]
  },
  {
   "cell_type": "code",
   "execution_count": 10,
   "id": "b4349827-1daa-4f1a-8054-17faaac6af77",
   "metadata": {},
   "outputs": [],
   "source": [
    "df_parcial_2 = df_parcial_1.union(df_3)"
   ]
  },
  {
   "cell_type": "code",
   "execution_count": 11,
   "id": "8be8b291-4635-4774-a758-f94d895a7abc",
   "metadata": {},
   "outputs": [],
   "source": [
    "df_parcial_3 = df_parcial_2.union(df_4)"
   ]
  },
  {
   "cell_type": "code",
   "execution_count": 12,
   "id": "39d8ae6a-f443-40b0-825d-f4344f4428b7",
   "metadata": {},
   "outputs": [],
   "source": [
    "df_final = df_parcial_3.union(df_5)"
   ]
  },
  {
   "cell_type": "code",
   "execution_count": 14,
   "id": "c9b18dd0-5d87-42b7-8bce-311c6d127fcc",
   "metadata": {
    "tags": []
   },
   "outputs": [
    {
     "ename": "AnalysisException",
     "evalue": "[PATH_ALREADY_EXISTS] Path file:/home/jovyan/work/MICRODADOS_IES_CONSULTA2.parquet already exists. Set mode as \"overwrite\" to overwrite the existing path.",
     "output_type": "error",
     "traceback": [
      "\u001b[0;31m---------------------------------------------------------------------------\u001b[0m",
      "\u001b[0;31mAnalysisException\u001b[0m                         Traceback (most recent call last)",
      "Cell \u001b[0;32mIn[14], line 1\u001b[0m\n\u001b[0;32m----> 1\u001b[0m \u001b[43mdf_final\u001b[49m\u001b[38;5;241;43m.\u001b[39;49m\u001b[43mwrite\u001b[49m\u001b[38;5;241;43m.\u001b[39;49m\u001b[43mparquet\u001b[49m\u001b[43m(\u001b[49m\u001b[38;5;124;43m\"\u001b[39;49m\u001b[38;5;124;43mMICRODADOS_IES_CONSULTA2.parquet\u001b[39;49m\u001b[38;5;124;43m\"\u001b[39;49m\u001b[43m)\u001b[49m\n",
      "File \u001b[0;32m/usr/local/spark/python/pyspark/sql/readwriter.py:1656\u001b[0m, in \u001b[0;36mDataFrameWriter.parquet\u001b[0;34m(self, path, mode, partitionBy, compression)\u001b[0m\n\u001b[1;32m   1654\u001b[0m     \u001b[38;5;28mself\u001b[39m\u001b[38;5;241m.\u001b[39mpartitionBy(partitionBy)\n\u001b[1;32m   1655\u001b[0m \u001b[38;5;28mself\u001b[39m\u001b[38;5;241m.\u001b[39m_set_opts(compression\u001b[38;5;241m=\u001b[39mcompression)\n\u001b[0;32m-> 1656\u001b[0m \u001b[38;5;28;43mself\u001b[39;49m\u001b[38;5;241;43m.\u001b[39;49m\u001b[43m_jwrite\u001b[49m\u001b[38;5;241;43m.\u001b[39;49m\u001b[43mparquet\u001b[49m\u001b[43m(\u001b[49m\u001b[43mpath\u001b[49m\u001b[43m)\u001b[49m\n",
      "File \u001b[0;32m/usr/local/spark/python/lib/py4j-0.10.9.7-src.zip/py4j/java_gateway.py:1322\u001b[0m, in \u001b[0;36mJavaMember.__call__\u001b[0;34m(self, *args)\u001b[0m\n\u001b[1;32m   1316\u001b[0m command \u001b[38;5;241m=\u001b[39m proto\u001b[38;5;241m.\u001b[39mCALL_COMMAND_NAME \u001b[38;5;241m+\u001b[39m\\\n\u001b[1;32m   1317\u001b[0m     \u001b[38;5;28mself\u001b[39m\u001b[38;5;241m.\u001b[39mcommand_header \u001b[38;5;241m+\u001b[39m\\\n\u001b[1;32m   1318\u001b[0m     args_command \u001b[38;5;241m+\u001b[39m\\\n\u001b[1;32m   1319\u001b[0m     proto\u001b[38;5;241m.\u001b[39mEND_COMMAND_PART\n\u001b[1;32m   1321\u001b[0m answer \u001b[38;5;241m=\u001b[39m \u001b[38;5;28mself\u001b[39m\u001b[38;5;241m.\u001b[39mgateway_client\u001b[38;5;241m.\u001b[39msend_command(command)\n\u001b[0;32m-> 1322\u001b[0m return_value \u001b[38;5;241m=\u001b[39m \u001b[43mget_return_value\u001b[49m\u001b[43m(\u001b[49m\n\u001b[1;32m   1323\u001b[0m \u001b[43m    \u001b[49m\u001b[43manswer\u001b[49m\u001b[43m,\u001b[49m\u001b[43m \u001b[49m\u001b[38;5;28;43mself\u001b[39;49m\u001b[38;5;241;43m.\u001b[39;49m\u001b[43mgateway_client\u001b[49m\u001b[43m,\u001b[49m\u001b[43m \u001b[49m\u001b[38;5;28;43mself\u001b[39;49m\u001b[38;5;241;43m.\u001b[39;49m\u001b[43mtarget_id\u001b[49m\u001b[43m,\u001b[49m\u001b[43m \u001b[49m\u001b[38;5;28;43mself\u001b[39;49m\u001b[38;5;241;43m.\u001b[39;49m\u001b[43mname\u001b[49m\u001b[43m)\u001b[49m\n\u001b[1;32m   1325\u001b[0m \u001b[38;5;28;01mfor\u001b[39;00m temp_arg \u001b[38;5;129;01min\u001b[39;00m temp_args:\n\u001b[1;32m   1326\u001b[0m     \u001b[38;5;28;01mif\u001b[39;00m \u001b[38;5;28mhasattr\u001b[39m(temp_arg, \u001b[38;5;124m\"\u001b[39m\u001b[38;5;124m_detach\u001b[39m\u001b[38;5;124m\"\u001b[39m):\n",
      "File \u001b[0;32m/usr/local/spark/python/pyspark/errors/exceptions/captured.py:175\u001b[0m, in \u001b[0;36mcapture_sql_exception.<locals>.deco\u001b[0;34m(*a, **kw)\u001b[0m\n\u001b[1;32m    171\u001b[0m converted \u001b[38;5;241m=\u001b[39m convert_exception(e\u001b[38;5;241m.\u001b[39mjava_exception)\n\u001b[1;32m    172\u001b[0m \u001b[38;5;28;01mif\u001b[39;00m \u001b[38;5;129;01mnot\u001b[39;00m \u001b[38;5;28misinstance\u001b[39m(converted, UnknownException):\n\u001b[1;32m    173\u001b[0m     \u001b[38;5;66;03m# Hide where the exception came from that shows a non-Pythonic\u001b[39;00m\n\u001b[1;32m    174\u001b[0m     \u001b[38;5;66;03m# JVM exception message.\u001b[39;00m\n\u001b[0;32m--> 175\u001b[0m     \u001b[38;5;28;01mraise\u001b[39;00m converted \u001b[38;5;28;01mfrom\u001b[39;00m \u001b[38;5;28;01mNone\u001b[39;00m\n\u001b[1;32m    176\u001b[0m \u001b[38;5;28;01melse\u001b[39;00m:\n\u001b[1;32m    177\u001b[0m     \u001b[38;5;28;01mraise\u001b[39;00m\n",
      "\u001b[0;31mAnalysisException\u001b[0m: [PATH_ALREADY_EXISTS] Path file:/home/jovyan/work/MICRODADOS_IES_CONSULTA2.parquet already exists. Set mode as \"overwrite\" to overwrite the existing path."
     ]
    }
   ],
   "source": [
    "df_final.write.parquet(\"MICRODADOS_IES_CONSULTA2.parquet\")"
   ]
  },
  {
   "cell_type": "code",
   "execution_count": 15,
   "id": "20030f94-8759-4e69-b5be-71e98499c649",
   "metadata": {
    "tags": []
   },
   "outputs": [],
   "source": [
    "df_final1 = spark.read.parquet(\"MICRODADOS_IES_CONSULTA2.parquet\")"
   ]
  },
  {
   "cell_type": "code",
   "execution_count": 16,
   "id": "bdd51f57-0a3f-4844-9cb0-c2127556f779",
   "metadata": {
    "tags": []
   },
   "outputs": [
    {
     "name": "stdout",
     "output_type": "stream",
     "text": [
      "root\n",
      " |-- nu_ano_censo: integer (nullable = true)\n",
      " |-- no_regiao_ies: string (nullable = true)\n",
      " |-- co_regiao_ies: integer (nullable = true)\n",
      " |-- no_uf_ies: string (nullable = true)\n",
      " |-- sg_uf_ies: string (nullable = true)\n",
      " |-- co_uf_ies: integer (nullable = true)\n",
      " |-- no_municipio_ies: string (nullable = true)\n",
      " |-- co_municipio_ies: integer (nullable = true)\n",
      " |-- in_capital_ies: integer (nullable = true)\n",
      " |-- no_mesorregiao_ies: string (nullable = true)\n",
      " |-- co_mesorregiao_ies: integer (nullable = true)\n",
      " |-- no_microrregiao_ies: string (nullable = true)\n",
      " |-- co_microrregiao_ies: integer (nullable = true)\n",
      " |-- tp_organizacao_academica: integer (nullable = true)\n",
      " |-- tp_categoria_administrativa: integer (nullable = true)\n",
      " |-- no_mantenedora: string (nullable = true)\n",
      " |-- co_mantenedora: integer (nullable = true)\n",
      " |-- co_ies: integer (nullable = true)\n",
      " |-- no_ies: string (nullable = true)\n",
      " |-- sg_ies: string (nullable = true)\n",
      " |-- ds_endereco_ies: string (nullable = true)\n",
      " |-- ds_numero_endereco_ies: string (nullable = true)\n",
      " |-- ds_complemento_endereco_ies: string (nullable = true)\n",
      " |-- no_bairro_ies: string (nullable = true)\n",
      " |-- nu_cep_ies: integer (nullable = true)\n",
      " |-- qt_tec_total: integer (nullable = true)\n",
      " |-- qt_tec_fundamental_incomp_fem: integer (nullable = true)\n",
      " |-- qt_tec_fundamental_incomp_masc: integer (nullable = true)\n",
      " |-- qt_tec_fundamental_comp_fem: integer (nullable = true)\n",
      " |-- qt_tec_fundamental_comp_masc: integer (nullable = true)\n",
      " |-- qt_tec_medio_fem: integer (nullable = true)\n",
      " |-- qt_tec_medio_masc: integer (nullable = true)\n",
      " |-- qt_tec_superior_fem: integer (nullable = true)\n",
      " |-- qt_tec_superior_masc: integer (nullable = true)\n",
      " |-- qt_tec_especializacao_fem: integer (nullable = true)\n",
      " |-- qt_tec_especializacao_masc: integer (nullable = true)\n",
      " |-- qt_tec_mestrado_fem: integer (nullable = true)\n",
      " |-- qt_tec_mestrado_masc: integer (nullable = true)\n",
      " |-- qt_tec_doutorado_fem: integer (nullable = true)\n",
      " |-- qt_tec_doutorado_masc: integer (nullable = true)\n",
      " |-- in_acesso_portal_capes: integer (nullable = true)\n",
      " |-- in_acesso_outras_bases: integer (nullable = true)\n",
      " |-- in_assina_outra_base: integer (nullable = true)\n",
      " |-- in_repositorio_institucional: integer (nullable = true)\n",
      " |-- in_busca_integrada: integer (nullable = true)\n",
      " |-- in_servico_internet: integer (nullable = true)\n",
      " |-- in_participa_rede_social: integer (nullable = true)\n",
      " |-- in_catalogo_online: integer (nullable = true)\n",
      " |-- qt_periodico_eletronico: integer (nullable = true)\n",
      " |-- qt_livro_eletronico: integer (nullable = true)\n",
      " |-- qt_doc_total: integer (nullable = true)\n",
      " |-- qt_doc_exe: integer (nullable = true)\n",
      " |-- qt_doc_ex_femi: integer (nullable = true)\n",
      " |-- qt_doc_ex_masc: integer (nullable = true)\n",
      " |-- qt_doc_ex_sem_grad: integer (nullable = true)\n",
      " |-- qt_doc_ex_grad: integer (nullable = true)\n",
      " |-- qt_doc_ex_esp: integer (nullable = true)\n",
      " |-- qt_doc_ex_mest: integer (nullable = true)\n",
      " |-- qt_doc_ex_dout: integer (nullable = true)\n",
      " |-- qt_doc_ex_int: integer (nullable = true)\n",
      " |-- qt_doc_ex_int_de: integer (nullable = true)\n",
      " |-- qt_doc_ex_int_sem_de: integer (nullable = true)\n",
      " |-- qt_doc_ex_parc: integer (nullable = true)\n",
      " |-- qt_doc_ex_hor: integer (nullable = true)\n",
      " |-- qt_doc_ex_0_29: integer (nullable = true)\n",
      " |-- qt_doc_ex_30_34: integer (nullable = true)\n",
      " |-- qt_doc_ex_35_39: integer (nullable = true)\n",
      " |-- qt_doc_ex_40_44: integer (nullable = true)\n",
      " |-- qt_doc_ex_45_49: integer (nullable = true)\n",
      " |-- qt_doc_ex_50_54: integer (nullable = true)\n",
      " |-- qt_doc_ex_55_59: integer (nullable = true)\n",
      " |-- qt_doc_ex_60_mais: integer (nullable = true)\n",
      " |-- qt_doc_ex_branca: integer (nullable = true)\n",
      " |-- qt_doc_ex_preta: integer (nullable = true)\n",
      " |-- qt_doc_ex_parda: integer (nullable = true)\n",
      " |-- qt_doc_ex_amarela: integer (nullable = true)\n",
      " |-- qt_doc_ex_indigena: integer (nullable = true)\n",
      " |-- qt_doc_ex_cor_nd: integer (nullable = true)\n",
      " |-- qt_doc_ex_bra: integer (nullable = true)\n",
      " |-- qt_doc_ex_est: integer (nullable = true)\n",
      " |-- qt_doc_ex_com_deficiencia: integer (nullable = true)\n",
      "\n"
     ]
    }
   ],
   "source": [
    "df_final1.printSchema()"
   ]
  },
  {
   "cell_type": "code",
   "execution_count": 17,
   "id": "b80ad3ef-962a-4bc7-90b6-9a2de9d4c155",
   "metadata": {
    "tags": []
   },
   "outputs": [],
   "source": [
    "df_final1.createOrReplaceTempView(\"parquet_df_final\")"
   ]
  },
  {
   "cell_type": "markdown",
   "id": "ed08dc43-333d-4c07-aad3-f0050df5164d",
   "metadata": {},
   "source": [
    "### CONSULTAS REFERENTE A PESQUISA:\n",
    "# Os impactos da pandemia no Ensino Superior do Brasil\n",
    "## Análise comparativa do Ensino Superior no Brasil nos anos de 2019 e 2020\n",
    "#"
   ]
  },
  {
   "cell_type": "markdown",
   "id": "ac01ba92-7501-4447-89a8-da3e291af8cc",
   "metadata": {},
   "source": [
    "### 1. Quantas bibliotecas passaram a oferecer serviços pela internet entre os anos de 2019 e 2020?"
   ]
  },
  {
   "cell_type": "code",
   "execution_count": 17,
   "id": "28de4ca2-6f4f-40d2-ae52-3614e8cd1944",
   "metadata": {
    "tags": []
   },
   "outputs": [
    {
     "data": {
      "text/html": [
       "<table border='1'>\n",
       "<tr><th>Ano_pesquisa</th><th>Qtd_bibliot_ofertam_servicos_pela_internet</th></tr>\n",
       "<tr><td>2016</td><td>2189</td></tr>\n",
       "<tr><td>2017</td><td>2262</td></tr>\n",
       "<tr><td>2018</td><td>2353</td></tr>\n",
       "<tr><td>2019</td><td>2460</td></tr>\n",
       "<tr><td>2020</td><td>2339</td></tr>\n",
       "</table>\n"
      ],
      "text/plain": [
       "+------------+------------------------------------------+\n",
       "|Ano_pesquisa|Qtd_bibliot_ofertam_servicos_pela_internet|\n",
       "+------------+------------------------------------------+\n",
       "|        2016|                                      2189|\n",
       "|        2017|                                      2262|\n",
       "|        2018|                                      2353|\n",
       "|        2019|                                      2460|\n",
       "|        2020|                                      2339|\n",
       "+------------+------------------------------------------+"
      ]
     },
     "execution_count": 17,
     "metadata": {},
     "output_type": "execute_result"
    }
   ],
   "source": [
    "spark.sql(\"select  nu_ano_censo as Ano_pesquisa, count(in_servico_internet) as Qtd_bibliot_ofertam_servicos_pela_internet \\\n",
    "from parquet_df_final \\\n",
    "where in_servico_internet = 1 and (nu_ano_censo = 2019 or nu_ano_censo = 2020 or nu_ano_censo = 2018 or nu_ano_censo = 2017 or nu_ano_censo = 2016) \\\n",
    "group by nu_ano_censo order by nu_ano_censo\")"
   ]
  },
  {
   "cell_type": "markdown",
   "id": "b678a13d-b960-43e3-9243-efc6e267a487",
   "metadata": {},
   "source": [
    "### 2. Houve crescimento ou queda no número de instituições? Qual estado teve o maior crescimento?"
   ]
  },
  {
   "cell_type": "code",
   "execution_count": 21,
   "id": "14317873-f754-400f-aa28-ee12393d9860",
   "metadata": {},
   "outputs": [
    {
     "data": {
      "text/html": [
       "<table border='1'>\n",
       "<tr><th>Estado</th><th>Num_instituicoes_2016</th><th>Num_instituicoes_2017</th><th>Num_instituicoes_2018</th><th>Num_instituicoes_2019</th><th>Num_instituicoes_2020</th><th>Diferenca_2020_2019</th></tr>\n",
       "<tr><td>SC</td><td>94</td><td>93</td><td>97</td><td>100</td><td>104</td><td>4</td></tr>\n",
       "<tr><td>AM</td><td>19</td><td>20</td><td>23</td><td>23</td><td>25</td><td>2</td></tr>\n",
       "<tr><td>AP</td><td>16</td><td>15</td><td>15</td><td>14</td><td>15</td><td>1</td></tr>\n",
       "<tr><td>RR</td><td>7</td><td>7</td><td>8</td><td>8</td><td>8</td><td>0</td></tr>\n",
       "<tr><td>MS</td><td>34</td><td>28</td><td>33</td><td>35</td><td>34</td><td>-1</td></tr>\n",
       "<tr><td>AL</td><td>28</td><td>29</td><td>29</td><td>31</td><td>30</td><td>-1</td></tr>\n",
       "<tr><td>RN</td><td>28</td><td>28</td><td>29</td><td>29</td><td>28</td><td>-1</td></tr>\n",
       "<tr><td>TO</td><td>24</td><td>24</td><td>24</td><td>26</td><td>24</td><td>-2</td></tr>\n",
       "<tr><td>PA</td><td>47</td><td>54</td><td>57</td><td>73</td><td>71</td><td>-2</td></tr>\n",
       "<tr><td>SE</td><td>18</td><td>18</td><td>19</td><td>20</td><td>18</td><td>-2</td></tr>\n",
       "<tr><td>RJ</td><td>138</td><td>136</td><td>136</td><td>132</td><td>130</td><td>-2</td></tr>\n",
       "<tr><td>MA</td><td>38</td><td>45</td><td>53</td><td>55</td><td>53</td><td>-2</td></tr>\n",
       "<tr><td>RO</td><td>32</td><td>34</td><td>35</td><td>33</td><td>30</td><td>-3</td></tr>\n",
       "<tr><td>GO</td><td>88</td><td>89</td><td>98</td><td>108</td><td>105</td><td>-3</td></tr>\n",
       "<tr><td>AC</td><td>11</td><td>11</td><td>11</td><td>14</td><td>11</td><td>-3</td></tr>\n",
       "<tr><td>MT</td><td>59</td><td>59</td><td>61</td><td>68</td><td>64</td><td>-4</td></tr>\n",
       "<tr><td>CE</td><td>65</td><td>72</td><td>83</td><td>93</td><td>89</td><td>-4</td></tr>\n",
       "<tr><td>PI</td><td>41</td><td>44</td><td>45</td><td>46</td><td>41</td><td>-5</td></tr>\n",
       "<tr><td>PB</td><td>40</td><td>42</td><td>45</td><td>47</td><td>41</td><td>-6</td></tr>\n",
       "<tr><td>PE</td><td>101</td><td>106</td><td>117</td><td>120</td><td>114</td><td>-6</td></tr>\n",
       "<tr><td>MG</td><td>298</td><td>296</td><td>301</td><td>306</td><td>299</td><td>-7</td></tr>\n",
       "<tr><td>RS</td><td>122</td><td>123</td><td>121</td><td>122</td><td>112</td><td>-10</td></tr>\n",
       "<tr><td>DF</td><td>59</td><td>64</td><td>66</td><td>72</td><td>61</td><td>-11</td></tr>\n",
       "<tr><td>ES</td><td>81</td><td>78</td><td>77</td><td>79</td><td>66</td><td>-13</td></tr>\n",
       "<tr><td>BA</td><td>121</td><td>133</td><td>146</td><td>152</td><td>138</td><td>-14</td></tr>\n",
       "<tr><td>SP</td><td>609</td><td>611</td><td>612</td><td>611</td><td>583</td><td>-28</td></tr>\n",
       "<tr><td>PR</td><td>189</td><td>189</td><td>196</td><td>191</td><td>163</td><td>-28</td></tr>\n",
       "</table>\n"
      ],
      "text/plain": [
       "+------+---------------------+---------------------+---------------------+---------------------+---------------------+-------------------+\n",
       "|Estado|Num_instituicoes_2016|Num_instituicoes_2017|Num_instituicoes_2018|Num_instituicoes_2019|Num_instituicoes_2020|Diferenca_2020_2019|\n",
       "+------+---------------------+---------------------+---------------------+---------------------+---------------------+-------------------+\n",
       "|    SC|                   94|                   93|                   97|                  100|                  104|                  4|\n",
       "|    AM|                   19|                   20|                   23|                   23|                   25|                  2|\n",
       "|    AP|                   16|                   15|                   15|                   14|                   15|                  1|\n",
       "|    RR|                    7|                    7|                    8|                    8|                    8|                  0|\n",
       "|    MS|                   34|                   28|                   33|                   35|                   34|                 -1|\n",
       "|    AL|                   28|                   29|                   29|                   31|                   30|                 -1|\n",
       "|    RN|                   28|                   28|                   29|                   29|                   28|                 -1|\n",
       "|    TO|                   24|                   24|                   24|                   26|                   24|                 -2|\n",
       "|    PA|                   47|                   54|                   57|                   73|                   71|                 -2|\n",
       "|    SE|                   18|                   18|                   19|                   20|                   18|                 -2|\n",
       "|    RJ|                  138|                  136|                  136|                  132|                  130|                 -2|\n",
       "|    MA|                   38|                   45|                   53|                   55|                   53|                 -2|\n",
       "|    RO|                   32|                   34|                   35|                   33|                   30|                 -3|\n",
       "|    GO|                   88|                   89|                   98|                  108|                  105|                 -3|\n",
       "|    AC|                   11|                   11|                   11|                   14|                   11|                 -3|\n",
       "|    MT|                   59|                   59|                   61|                   68|                   64|                 -4|\n",
       "|    CE|                   65|                   72|                   83|                   93|                   89|                 -4|\n",
       "|    PI|                   41|                   44|                   45|                   46|                   41|                 -5|\n",
       "|    PB|                   40|                   42|                   45|                   47|                   41|                 -6|\n",
       "|    PE|                  101|                  106|                  117|                  120|                  114|                 -6|\n",
       "|    MG|                  298|                  296|                  301|                  306|                  299|                 -7|\n",
       "|    RS|                  122|                  123|                  121|                  122|                  112|                -10|\n",
       "|    DF|                   59|                   64|                   66|                   72|                   61|                -11|\n",
       "|    ES|                   81|                   78|                   77|                   79|                   66|                -13|\n",
       "|    BA|                  121|                  133|                  146|                  152|                  138|                -14|\n",
       "|    SP|                  609|                  611|                  612|                  611|                  583|                -28|\n",
       "|    PR|                  189|                  189|                  196|                  191|                  163|                -28|\n",
       "+------+---------------------+---------------------+---------------------+---------------------+---------------------+-------------------+"
      ]
     },
     "execution_count": 21,
     "metadata": {},
     "output_type": "execute_result"
    }
   ],
   "source": [
    "spark.sql(\"SELECT t.Estado, t.Num_instituicoes_2016, t.Num_instituicoes_2017, t.Num_instituicoes_2018, t.Num_instituicoes_2019, t.Num_instituicoes_2020, t.Num_instituicoes_2020 - t.Num_instituicoes_2019 AS Diferenca_2020_2019 \\\n",
    "           FROM ( \\\n",
    "               SELECT sg_uf_ies AS Estado, \\\n",
    "                   SUM(CASE WHEN nu_ano_censo = 2020 THEN 1 ELSE 0 END) AS Num_instituicoes_2020, \\\n",
    "                   SUM(CASE WHEN nu_ano_censo = 2019 THEN 1 ELSE 0 END) AS Num_instituicoes_2019, \\\n",
    "                   SUM(CASE WHEN nu_ano_censo = 2018 THEN 1 ELSE 0 END) AS Num_instituicoes_2018, \\\n",
    "                   SUM(CASE WHEN nu_ano_censo = 2017 THEN 1 ELSE 0 END) AS Num_instituicoes_2017, \\\n",
    "                   SUM(CASE WHEN nu_ano_censo = 2016 THEN 1 ELSE 0 END) AS Num_instituicoes_2016 \\\n",
    "               FROM parquet_df_final \\\n",
    "               GROUP BY sg_uf_ies \\\n",
    "           ) t \\\n",
    "           order by Diferenca_2020_2019 desc\")"
   ]
  },
  {
   "cell_type": "markdown",
   "id": "894f534a-aef1-40a2-b7ea-3851cb7402de",
   "metadata": {},
   "source": [
    "### 3. Houve quantas contratações durante o período da pandemia? O número de contratações superou 2019?"
   ]
  },
  {
   "cell_type": "code",
   "execution_count": 24,
   "id": "2410f82d-b7b0-4f79-8217-72a5db0e368d",
   "metadata": {},
   "outputs": [
    {
     "data": {
      "text/html": [
       "<table border='1'>\n",
       "<tr><th>Contrato_docentes</th><th>Ano_pesquisa</th></tr>\n",
       "<tr><td>397611</td><td>2016</td></tr>\n",
       "<tr><td>392036</td><td>2017</td></tr>\n",
       "<tr><td>397893</td><td>2018</td></tr>\n",
       "<tr><td>399428</td><td>2019</td></tr>\n",
       "<tr><td>378492</td><td>2020</td></tr>\n",
       "</table>\n"
      ],
      "text/plain": [
       "+-----------------+------------+\n",
       "|Contrato_docentes|Ano_pesquisa|\n",
       "+-----------------+------------+\n",
       "|           397611|        2016|\n",
       "|           392036|        2017|\n",
       "|           397893|        2018|\n",
       "|           399428|        2019|\n",
       "|           378492|        2020|\n",
       "+-----------------+------------+"
      ]
     },
     "execution_count": 24,
     "metadata": {},
     "output_type": "execute_result"
    }
   ],
   "source": [
    "spark.sql(\"select sum(qt_doc_total) as Contrato_docentes, nu_ano_censo as Ano_pesquisa \\\n",
    "            from parquet_df_final \\\n",
    "            group by nu_ano_censo \\\n",
    "            order by nu_ano_censo\")"
   ]
  },
  {
   "cell_type": "markdown",
   "id": "2cddd2af-ed9e-4c0c-90b1-fc0aee0a9254",
   "metadata": {},
   "source": [
    "### 4. Quais tipos de organização acadêmica foram mais prejudicadas com demissões de funcionários em 2020? Informe o tipo de categoria administrativa"
   ]
  },
  {
   "cell_type": "markdown",
   "id": "4885c40a-60f6-432f-a9d8-c6a63f80332f",
   "metadata": {},
   "source": [
    "#### NUM DO TIPO DE ORG. ACADÊMICA\n",
    "##### 1 - Universidade\n",
    "##### 2 - Centro Universitário\n",
    "##### 3 - Faculdade\n",
    "##### 4 - Instituto Federal de Educação, Ciência e Tecnologia\n",
    "##### 5 - Centro Federal de Educação Tecnológica"
   ]
  },
  {
   "cell_type": "markdown",
   "id": "2bc5c739-38d8-4518-b183-7569d3d202b8",
   "metadata": {},
   "source": [
    "#### NUM DO TIPO DE CATEGORIA ADMINISTRATIVA\n",
    "##### 1 - Pública Federal\n",
    "##### 2 - Pública Estadual\n",
    "##### 3 - Pública Municipal\n",
    "##### 4 - Privada com fins lucrativos\n",
    "##### 5 - Privada sem fins lucrativos\n",
    "##### 6 - Privada - Particular sem sentido estrito\n",
    "##### 7 - Especial\n",
    "##### 8 - Privada comunitária\n",
    "##### 9 - Privada confessional"
   ]
  },
  {
   "cell_type": "code",
   "execution_count": 29,
   "id": "700d1a4c-2d0b-43c4-b999-16664c54d9d2",
   "metadata": {},
   "outputs": [
    {
     "data": {
      "text/html": [
       "<table border='1'>\n",
       "<tr><th>Tipo_org_academica</th><th>Contrato_docentes_2019</th><th>Contrato_docentes_2020</th><th>Diferenca</th></tr>\n",
       "<tr><td>1</td><td>213167</td><td>205226</td><td>-7941</td></tr>\n",
       "<tr><td>2</td><td>59209</td><td>59909</td><td>700</td></tr>\n",
       "<tr><td>3</td><td>99752</td><td>87347</td><td>-12405</td></tr>\n",
       "<tr><td>4</td><td>25758</td><td>24441</td><td>-1317</td></tr>\n",
       "<tr><td>5</td><td>1542</td><td>1569</td><td>27</td></tr>\n",
       "</table>\n"
      ],
      "text/plain": [
       "+------------------+----------------------+----------------------+---------+\n",
       "|Tipo_org_academica|Contrato_docentes_2019|Contrato_docentes_2020|Diferenca|\n",
       "+------------------+----------------------+----------------------+---------+\n",
       "|                 1|                213167|                205226|    -7941|\n",
       "|                 2|                 59209|                 59909|      700|\n",
       "|                 3|                 99752|                 87347|   -12405|\n",
       "|                 4|                 25758|                 24441|    -1317|\n",
       "|                 5|                  1542|                  1569|       27|\n",
       "+------------------+----------------------+----------------------+---------+"
      ]
     },
     "execution_count": 29,
     "metadata": {},
     "output_type": "execute_result"
    }
   ],
   "source": [
    "spark.sql(\"SELECT t.tp_organizacao_academica as Tipo_org_academica, t.Contrato_docentes_2019, t.Contrato_docentes_2020, t.Contrato_docentes_2020 - t.Contrato_docentes_2019 AS Diferenca \\\n",
    "           FROM ( \\\n",
    "               SELECT tp_organizacao_academica, \\\n",
    "                   SUM(CASE WHEN nu_ano_censo = 2019 THEN qt_doc_total ELSE 0 END) AS Contrato_docentes_2019, \\\n",
    "                   SUM(CASE WHEN nu_ano_censo = 2020 THEN qt_doc_total ELSE 0 END) AS Contrato_docentes_2020 \\\n",
    "               FROM parquet_df_final \\\n",
    "               WHERE nu_ano_censo = 2019 OR nu_ano_censo = 2020 \\\n",
    "               GROUP BY tp_organizacao_academica \\\n",
    "               ORDER BY tp_organizacao_academica \\\n",
    "           ) t\")"
   ]
  },
  {
   "cell_type": "code",
   "execution_count": 36,
   "id": "f58fc671-dd8e-4c67-a510-5561e2eab14f",
   "metadata": {},
   "outputs": [
    {
     "data": {
      "text/html": [
       "<table border='1'>\n",
       "<tr><th>Tipo_categoria_adm</th><th>Tipo_org_academica</th><th>Contrato_docentes_2019</th><th>Contrato_docentes_2020</th><th>Diferenca</th></tr>\n",
       "<tr><td>1</td><td>1</td><td>99244</td><td>96374</td><td>-2870</td></tr>\n",
       "<tr><td>2</td><td>1</td><td>46528</td><td>44516</td><td>-2012</td></tr>\n",
       "<tr><td>3</td><td>1</td><td>2637</td><td>2457</td><td>-180</td></tr>\n",
       "<tr><td>4</td><td>1</td><td>20998</td><td>20443</td><td>-555</td></tr>\n",
       "<tr><td>5</td><td>1</td><td>43760</td><td>41436</td><td>-2324</td></tr>\n",
       "<tr><td>1</td><td>2</td><td>140</td><td>124</td><td>-16</td></tr>\n",
       "<tr><td>2</td><td>2</td><td>105</td><td>133</td><td>28</td></tr>\n",
       "<tr><td>3</td><td>2</td><td>711</td><td>486</td><td>-225</td></tr>\n",
       "<tr><td>4</td><td>2</td><td>31125</td><td>32534</td><td>1409</td></tr>\n",
       "<tr><td>5</td><td>2</td><td>26446</td><td>25782</td><td>-664</td></tr>\n",
       "<tr><td>7</td><td>2</td><td>682</td><td>850</td><td>168</td></tr>\n",
       "<tr><td>1</td><td>3</td><td>642</td><td>892</td><td>250</td></tr>\n",
       "<tr><td>2</td><td>3</td><td>5529</td><td>5461</td><td>-68</td></tr>\n",
       "<tr><td>3</td><td>3</td><td>1488</td><td>1148</td><td>-340</td></tr>\n",
       "<tr><td>4</td><td>3</td><td>58338</td><td>49817</td><td>-8521</td></tr>\n",
       "<tr><td>5</td><td>3</td><td>32544</td><td>28742</td><td>-3802</td></tr>\n",
       "<tr><td>7</td><td>3</td><td>1211</td><td>1287</td><td>76</td></tr>\n",
       "<tr><td>1</td><td>4</td><td>25758</td><td>24441</td><td>-1317</td></tr>\n",
       "<tr><td>1</td><td>5</td><td>1542</td><td>1569</td><td>27</td></tr>\n",
       "</table>\n"
      ],
      "text/plain": [
       "+------------------+------------------+----------------------+----------------------+---------+\n",
       "|Tipo_categoria_adm|Tipo_org_academica|Contrato_docentes_2019|Contrato_docentes_2020|Diferenca|\n",
       "+------------------+------------------+----------------------+----------------------+---------+\n",
       "|                 1|                 1|                 99244|                 96374|    -2870|\n",
       "|                 2|                 1|                 46528|                 44516|    -2012|\n",
       "|                 3|                 1|                  2637|                  2457|     -180|\n",
       "|                 4|                 1|                 20998|                 20443|     -555|\n",
       "|                 5|                 1|                 43760|                 41436|    -2324|\n",
       "|                 1|                 2|                   140|                   124|      -16|\n",
       "|                 2|                 2|                   105|                   133|       28|\n",
       "|                 3|                 2|                   711|                   486|     -225|\n",
       "|                 4|                 2|                 31125|                 32534|     1409|\n",
       "|                 5|                 2|                 26446|                 25782|     -664|\n",
       "|                 7|                 2|                   682|                   850|      168|\n",
       "|                 1|                 3|                   642|                   892|      250|\n",
       "|                 2|                 3|                  5529|                  5461|      -68|\n",
       "|                 3|                 3|                  1488|                  1148|     -340|\n",
       "|                 4|                 3|                 58338|                 49817|    -8521|\n",
       "|                 5|                 3|                 32544|                 28742|    -3802|\n",
       "|                 7|                 3|                  1211|                  1287|       76|\n",
       "|                 1|                 4|                 25758|                 24441|    -1317|\n",
       "|                 1|                 5|                  1542|                  1569|       27|\n",
       "+------------------+------------------+----------------------+----------------------+---------+"
      ]
     },
     "execution_count": 36,
     "metadata": {},
     "output_type": "execute_result"
    }
   ],
   "source": [
    "spark.sql(\"SELECT t.tp_categoria_administrativa as Tipo_categoria_adm, t.tp_organizacao_academica as Tipo_org_academica, t.Contrato_docentes_2019, t.Contrato_docentes_2020, t.Contrato_docentes_2020 - t.Contrato_docentes_2019 AS Diferenca \\\n",
    "           FROM ( \\\n",
    "               SELECT tp_organizacao_academica, tp_categoria_administrativa, \\\n",
    "                   SUM(CASE WHEN nu_ano_censo = 2019 THEN qt_doc_total ELSE 0 END) AS Contrato_docentes_2019, \\\n",
    "                   SUM(CASE WHEN nu_ano_censo = 2020 THEN qt_doc_total ELSE 0 END) AS Contrato_docentes_2020 \\\n",
    "               FROM parquet_df_final \\\n",
    "               WHERE nu_ano_censo = 2019 OR nu_ano_censo = 2020 \\\n",
    "               GROUP BY tp_organizacao_academica, tp_categoria_administrativa  \\\n",
    "               ORDER BY tp_organizacao_academica, tp_categoria_administrativa \\\n",
    "           ) t\")"
   ]
  },
  {
   "cell_type": "markdown",
   "id": "4b9b6bcb-00de-4531-a413-b71cb9081ec2",
   "metadata": {},
   "source": [
    "### 5. Qual estado teve o maior número de admissões de docentes entre 35 e 54 anos, em 2020."
   ]
  },
  {
   "cell_type": "code",
   "execution_count": 37,
   "id": "cd7e613a-2a4d-45d9-8205-eda85893b875",
   "metadata": {},
   "outputs": [
    {
     "data": {
      "text/html": [
       "<table border='1'>\n",
       "<tr><th>Estado</th><th>Docentes_35_54_2019</th><th>Docentes_35_54_2020</th><th>Diferenca</th></tr>\n",
       "<tr><td>SC</td><td>11136</td><td>11274</td><td>138</td></tr>\n",
       "<tr><td>PB</td><td>5822</td><td>5936</td><td>114</td></tr>\n",
       "<tr><td>SE</td><td>2451</td><td>2488</td><td>37</td></tr>\n",
       "<tr><td>AM</td><td>3117</td><td>3135</td><td>18</td></tr>\n",
       "<tr><td>RN</td><td>3889</td><td>3903</td><td>14</td></tr>\n",
       "<tr><td>CE</td><td>7967</td><td>7970</td><td>3</td></tr>\n",
       "<tr><td>PE</td><td>8316</td><td>8308</td><td>-8</td></tr>\n",
       "<tr><td>AP</td><td>1031</td><td>1017</td><td>-14</td></tr>\n",
       "<tr><td>RR</td><td>782</td><td>754</td><td>-28</td></tr>\n",
       "<tr><td>MS</td><td>3649</td><td>3601</td><td>-48</td></tr>\n",
       "<tr><td>PI</td><td>3494</td><td>3445</td><td>-49</td></tr>\n",
       "<tr><td>AL</td><td>3041</td><td>2969</td><td>-72</td></tr>\n",
       "<tr><td>AC</td><td>975</td><td>879</td><td>-96</td></tr>\n",
       "<tr><td>RO</td><td>1754</td><td>1650</td><td>-104</td></tr>\n",
       "<tr><td>RJ</td><td>18529</td><td>18372</td><td>-157</td></tr>\n",
       "<tr><td>TO</td><td>2320</td><td>2136</td><td>-184</td></tr>\n",
       "<tr><td>GO</td><td>8250</td><td>8024</td><td>-226</td></tr>\n",
       "<tr><td>ES</td><td>4588</td><td>4269</td><td>-319</td></tr>\n",
       "<tr><td>PA</td><td>5625</td><td>5302</td><td>-323</td></tr>\n",
       "<tr><td>DF</td><td>5871</td><td>5296</td><td>-575</td></tr>\n",
       "<tr><td>MA</td><td>4451</td><td>3839</td><td>-612</td></tr>\n",
       "<tr><td>RS</td><td>15371</td><td>14747</td><td>-624</td></tr>\n",
       "<tr><td>PR</td><td>17831</td><td>17146</td><td>-685</td></tr>\n",
       "<tr><td>MT</td><td>4861</td><td>4115</td><td>-746</td></tr>\n",
       "<tr><td>BA</td><td>12820</td><td>11858</td><td>-962</td></tr>\n",
       "<tr><td>MG</td><td>27529</td><td>26422</td><td>-1107</td></tr>\n",
       "<tr><td>SP</td><td>48360</td><td>45891</td><td>-2469</td></tr>\n",
       "</table>\n"
      ],
      "text/plain": [
       "+------+-------------------+-------------------+---------+\n",
       "|Estado|Docentes_35_54_2019|Docentes_35_54_2020|Diferenca|\n",
       "+------+-------------------+-------------------+---------+\n",
       "|    SC|              11136|              11274|      138|\n",
       "|    PB|               5822|               5936|      114|\n",
       "|    SE|               2451|               2488|       37|\n",
       "|    AM|               3117|               3135|       18|\n",
       "|    RN|               3889|               3903|       14|\n",
       "|    CE|               7967|               7970|        3|\n",
       "|    PE|               8316|               8308|       -8|\n",
       "|    AP|               1031|               1017|      -14|\n",
       "|    RR|                782|                754|      -28|\n",
       "|    MS|               3649|               3601|      -48|\n",
       "|    PI|               3494|               3445|      -49|\n",
       "|    AL|               3041|               2969|      -72|\n",
       "|    AC|                975|                879|      -96|\n",
       "|    RO|               1754|               1650|     -104|\n",
       "|    RJ|              18529|              18372|     -157|\n",
       "|    TO|               2320|               2136|     -184|\n",
       "|    GO|               8250|               8024|     -226|\n",
       "|    ES|               4588|               4269|     -319|\n",
       "|    PA|               5625|               5302|     -323|\n",
       "|    DF|               5871|               5296|     -575|\n",
       "|    MA|               4451|               3839|     -612|\n",
       "|    RS|              15371|              14747|     -624|\n",
       "|    PR|              17831|              17146|     -685|\n",
       "|    MT|               4861|               4115|     -746|\n",
       "|    BA|              12820|              11858|     -962|\n",
       "|    MG|              27529|              26422|    -1107|\n",
       "|    SP|              48360|              45891|    -2469|\n",
       "+------+-------------------+-------------------+---------+"
      ]
     },
     "execution_count": 37,
     "metadata": {},
     "output_type": "execute_result"
    }
   ],
   "source": [
    "spark.sql(\"SELECT t.sg_uf_ies as Estado, t.Docentes_35_54_2019, t.Docentes_35_54_2020, t.Docentes_35_54_2020 - t.Docentes_35_54_2019 AS Diferenca \\\n",
    "           FROM ( \\\n",
    "               SELECT sg_uf_ies, \\\n",
    "                   SUM(CASE WHEN nu_ano_censo = 2019 THEN qt_doc_ex_35_39 + qt_doc_ex_40_44 + qt_doc_ex_45_49 + qt_doc_ex_50_54 ELSE 0 END) AS Docentes_35_54_2019, \\\n",
    "                   SUM(CASE WHEN nu_ano_censo = 2020 THEN qt_doc_ex_35_39 + qt_doc_ex_40_44 + qt_doc_ex_45_49 + qt_doc_ex_50_54 ELSE 0 END) AS Docentes_35_54_2020 \\\n",
    "               FROM parquet_df_final \\\n",
    "               WHERE nu_ano_censo = 2019 OR nu_ano_censo = 2020 \\\n",
    "               GROUP BY sg_uf_ies \\\n",
    "           ) t \\\n",
    "           ORDER BY diferenca DESC \\\n",
    "           LIMIT 54\")"
   ]
  }
 ],
 "metadata": {
  "kernelspec": {
   "display_name": "Python 3 (ipykernel)",
   "language": "python",
   "name": "python3"
  },
  "language_info": {
   "codemirror_mode": {
    "name": "ipython",
    "version": 3
   },
   "file_extension": ".py",
   "mimetype": "text/x-python",
   "name": "python",
   "nbconvert_exporter": "python",
   "pygments_lexer": "ipython3",
   "version": "3.10.11"
  }
 },
 "nbformat": 4,
 "nbformat_minor": 5
}
