{
 "cells": [
  {
   "cell_type": "code",
   "execution_count": 1,
   "id": "f7aa4210-ca43-4323-8a8f-8318c6701782",
   "metadata": {
    "tags": []
   },
   "outputs": [],
   "source": [
    "import requests"
   ]
  },
  {
   "cell_type": "code",
   "execution_count": 2,
   "id": "4f62b67a-181c-4966-8231-fecaa55e8de9",
   "metadata": {
    "tags": []
   },
   "outputs": [],
   "source": [
    "url_1 = \"https://download.inep.gov.br/microdados/microdados_censo_da_educacao_superior_2020.zip\"\n",
    "url_2 = \"https://download.inep.gov.br/microdados/microdados_censo_da_educacao_superior_2019.zip\"\n"
   ]
  },
  {
   "cell_type": "code",
   "execution_count": 3,
   "id": "40d360a0-fc17-4b91-92a9-57b82658daa6",
   "metadata": {
    "tags": []
   },
   "outputs": [
    {
     "name": "stderr",
     "output_type": "stream",
     "text": [
      "/opt/conda/lib/python3.10/site-packages/urllib3/connectionpool.py:1056: InsecureRequestWarning: Unverified HTTPS request is being made to host 'download.inep.gov.br'. Adding certificate verification is strongly advised. See: https://urllib3.readthedocs.io/en/1.26.x/advanced-usage.html#ssl-warnings\n",
      "  warnings.warn(\n",
      "/opt/conda/lib/python3.10/site-packages/urllib3/connectionpool.py:1056: InsecureRequestWarning: Unverified HTTPS request is being made to host 'download.inep.gov.br'. Adding certificate verification is strongly advised. See: https://urllib3.readthedocs.io/en/1.26.x/advanced-usage.html#ssl-warnings\n",
      "  warnings.warn(\n"
     ]
    }
   ],
   "source": [
    "dado_1 = requests.get(url_1, verify=False)\n",
    "dado_2 = requests.get(url_2, verify=False)\n"
   ]
  },
  {
   "cell_type": "code",
   "execution_count": 4,
   "id": "f51fc33b-df6c-4a1e-8b38-83b18640280f",
   "metadata": {
    "tags": []
   },
   "outputs": [],
   "source": [
    "import zipfile\n",
    "\n",
    "with open('dado_1.zip', 'wb') as f:\n",
    "\tf.write(dado_1.content)\n",
    "\t\n",
    "with open('dado_2.zip', 'wb') as f:\n",
    "\tf.write(dado_2.content)\n",
    "\t\n",
    "with zipfile.ZipFile('dado_1.zip', 'r') as zip_ref:\n",
    "\tzip_ref.extractall(\"./data\")\n",
    "\t\n",
    "with zipfile.ZipFile('dado_2.zip', 'r') as zip_ref:\n",
    "\tzip_ref.extractall(\"./data\")\n",
    "\n"
   ]
  },
  {
   "cell_type": "code",
   "execution_count": 83,
   "id": "379e2fd0-df72-42b2-b077-343e1f37660b",
   "metadata": {
    "tags": []
   },
   "outputs": [],
   "source": [
    "from pyspark.sql import SparkSession\n",
    "from pyspark.sql.functions import when, col, lower\n",
    "\n",
    "spark = SparkSession \\\n",
    "        .builder \\\n",
    "        .config(\"spark.sql.repl.eagerEval.enabled\", \"True\") \\\n",
    "        .config(\"spark.sql.repl.eagerEval.maxNumRows\", \"100\") \\\n",
    "        .getOrCreate()\n"
   ]
  },
  {
   "cell_type": "code",
   "execution_count": 6,
   "id": "7c47a41c-bcee-4d12-99b7-0a522d8618d8",
   "metadata": {
    "tags": []
   },
   "outputs": [],
   "source": [
    "df_1 = spark.read.csv(\"data/Microdados do Censo da Educaç╞o Superior 2020/dados/MICRODADOS_CADASTRO_IES_2020.CSV\", sep=';', header=True, inferSchema=True)\n",
    "\n",
    "df_2 = spark.read.csv(\"data/Microdados do Censo da Educaç╞o Superior 2019/dados/MICRODADOS_CADASTRO_IES_2019.CSV\", sep=';', header=True, inferSchema=True)\n"
   ]
  },
  {
   "cell_type": "code",
   "execution_count": 7,
   "id": "1d0856e4-1759-4916-9774-6b4c191729d9",
   "metadata": {
    "tags": []
   },
   "outputs": [],
   "source": [
    "for col in df_1.columns:\n",
    "    df_1 = df_1.withColumnRenamed(col, col.lower())\n",
    "for col in df_2.columns:\n",
    "    df_2 = df_2.withColumnRenamed(col, col.lower())\n"
   ]
  },
  {
   "cell_type": "code",
   "execution_count": 8,
   "id": "430cae93-6fdb-415d-9f15-cf1922ca9fbc",
   "metadata": {
    "tags": []
   },
   "outputs": [],
   "source": [
    "df_final = df_1.union(df_2)"
   ]
  },
  {
   "cell_type": "code",
   "execution_count": 9,
   "id": "c9b18dd0-5d87-42b7-8bce-311c6d127fcc",
   "metadata": {
    "tags": []
   },
   "outputs": [],
   "source": [
    "df_final.write.parquet(\"MICRODADOS_IES_CONSULTA2.parquet\")"
   ]
  },
  {
   "cell_type": "code",
   "execution_count": 10,
   "id": "20030f94-8759-4e69-b5be-71e98499c649",
   "metadata": {
    "tags": []
   },
   "outputs": [],
   "source": [
    "df_final1 = spark.read.parquet(\"MICRODADOS_IES_CONSULTA2.parquet\")"
   ]
  },
  {
   "cell_type": "code",
   "execution_count": 11,
   "id": "bdd51f57-0a3f-4844-9cb0-c2127556f779",
   "metadata": {
    "tags": []
   },
   "outputs": [
    {
     "name": "stdout",
     "output_type": "stream",
     "text": [
      "root\n",
      " |-- nu_ano_censo: integer (nullable = true)\n",
      " |-- no_regiao_ies: string (nullable = true)\n",
      " |-- co_regiao_ies: integer (nullable = true)\n",
      " |-- no_uf_ies: string (nullable = true)\n",
      " |-- sg_uf_ies: string (nullable = true)\n",
      " |-- co_uf_ies: integer (nullable = true)\n",
      " |-- no_municipio_ies: string (nullable = true)\n",
      " |-- co_municipio_ies: integer (nullable = true)\n",
      " |-- in_capital_ies: integer (nullable = true)\n",
      " |-- no_mesorregiao_ies: string (nullable = true)\n",
      " |-- co_mesorregiao_ies: integer (nullable = true)\n",
      " |-- no_microrregiao_ies: string (nullable = true)\n",
      " |-- co_microrregiao_ies: integer (nullable = true)\n",
      " |-- tp_organizacao_academica: integer (nullable = true)\n",
      " |-- tp_categoria_administrativa: integer (nullable = true)\n",
      " |-- no_mantenedora: string (nullable = true)\n",
      " |-- co_mantenedora: integer (nullable = true)\n",
      " |-- co_ies: integer (nullable = true)\n",
      " |-- no_ies: string (nullable = true)\n",
      " |-- sg_ies: string (nullable = true)\n",
      " |-- ds_endereco_ies: string (nullable = true)\n",
      " |-- ds_numero_endereco_ies: string (nullable = true)\n",
      " |-- ds_complemento_endereco_ies: string (nullable = true)\n",
      " |-- no_bairro_ies: string (nullable = true)\n",
      " |-- nu_cep_ies: integer (nullable = true)\n",
      " |-- qt_tec_total: integer (nullable = true)\n",
      " |-- qt_tec_fundamental_incomp_fem: integer (nullable = true)\n",
      " |-- qt_tec_fundamental_incomp_masc: integer (nullable = true)\n",
      " |-- qt_tec_fundamental_comp_fem: integer (nullable = true)\n",
      " |-- qt_tec_fundamental_comp_masc: integer (nullable = true)\n",
      " |-- qt_tec_medio_fem: integer (nullable = true)\n",
      " |-- qt_tec_medio_masc: integer (nullable = true)\n",
      " |-- qt_tec_superior_fem: integer (nullable = true)\n",
      " |-- qt_tec_superior_masc: integer (nullable = true)\n",
      " |-- qt_tec_especializacao_fem: integer (nullable = true)\n",
      " |-- qt_tec_especializacao_masc: integer (nullable = true)\n",
      " |-- qt_tec_mestrado_fem: integer (nullable = true)\n",
      " |-- qt_tec_mestrado_masc: integer (nullable = true)\n",
      " |-- qt_tec_doutorado_fem: integer (nullable = true)\n",
      " |-- qt_tec_doutorado_masc: integer (nullable = true)\n",
      " |-- in_acesso_portal_capes: integer (nullable = true)\n",
      " |-- in_acesso_outras_bases: integer (nullable = true)\n",
      " |-- in_assina_outra_base: integer (nullable = true)\n",
      " |-- in_repositorio_institucional: integer (nullable = true)\n",
      " |-- in_busca_integrada: integer (nullable = true)\n",
      " |-- in_servico_internet: integer (nullable = true)\n",
      " |-- in_participa_rede_social: integer (nullable = true)\n",
      " |-- in_catalogo_online: integer (nullable = true)\n",
      " |-- qt_periodico_eletronico: integer (nullable = true)\n",
      " |-- qt_livro_eletronico: integer (nullable = true)\n",
      " |-- qt_doc_total: integer (nullable = true)\n",
      " |-- qt_doc_exe: integer (nullable = true)\n",
      " |-- qt_doc_ex_femi: integer (nullable = true)\n",
      " |-- qt_doc_ex_masc: integer (nullable = true)\n",
      " |-- qt_doc_ex_sem_grad: integer (nullable = true)\n",
      " |-- qt_doc_ex_grad: integer (nullable = true)\n",
      " |-- qt_doc_ex_esp: integer (nullable = true)\n",
      " |-- qt_doc_ex_mest: integer (nullable = true)\n",
      " |-- qt_doc_ex_dout: integer (nullable = true)\n",
      " |-- qt_doc_ex_int: integer (nullable = true)\n",
      " |-- qt_doc_ex_int_de: integer (nullable = true)\n",
      " |-- qt_doc_ex_int_sem_de: integer (nullable = true)\n",
      " |-- qt_doc_ex_parc: integer (nullable = true)\n",
      " |-- qt_doc_ex_hor: integer (nullable = true)\n",
      " |-- qt_doc_ex_0_29: integer (nullable = true)\n",
      " |-- qt_doc_ex_30_34: integer (nullable = true)\n",
      " |-- qt_doc_ex_35_39: integer (nullable = true)\n",
      " |-- qt_doc_ex_40_44: integer (nullable = true)\n",
      " |-- qt_doc_ex_45_49: integer (nullable = true)\n",
      " |-- qt_doc_ex_50_54: integer (nullable = true)\n",
      " |-- qt_doc_ex_55_59: integer (nullable = true)\n",
      " |-- qt_doc_ex_60_mais: integer (nullable = true)\n",
      " |-- qt_doc_ex_branca: integer (nullable = true)\n",
      " |-- qt_doc_ex_preta: integer (nullable = true)\n",
      " |-- qt_doc_ex_parda: integer (nullable = true)\n",
      " |-- qt_doc_ex_amarela: integer (nullable = true)\n",
      " |-- qt_doc_ex_indigena: integer (nullable = true)\n",
      " |-- qt_doc_ex_cor_nd: integer (nullable = true)\n",
      " |-- qt_doc_ex_bra: integer (nullable = true)\n",
      " |-- qt_doc_ex_est: integer (nullable = true)\n",
      " |-- qt_doc_ex_com_deficiencia: integer (nullable = true)\n",
      "\n"
     ]
    }
   ],
   "source": [
    "df_final1.printSchema()"
   ]
  },
  {
   "cell_type": "code",
   "execution_count": 12,
   "id": "b80ad3ef-962a-4bc7-90b6-9a2de9d4c155",
   "metadata": {
    "tags": []
   },
   "outputs": [],
   "source": [
    "df_final1.createOrReplaceTempView(\"parquet_df_final\")"
   ]
  },
  {
   "cell_type": "markdown",
   "id": "ed08dc43-333d-4c07-aad3-f0050df5164d",
   "metadata": {},
   "source": [
    "### CONSULTAS REFERENTE A PESQUISA:\n",
    "# Os impactos da pandemia no Ensino Superior do Brasil\n",
    "## Análise comparativa do Ensino Superior no Brasil nos anos de 2019 e 2020\n",
    "#"
   ]
  },
  {
   "cell_type": "markdown",
   "id": "ac01ba92-7501-4447-89a8-da3e291af8cc",
   "metadata": {},
   "source": [
    "### 1. Quantas bibliotecas passaram a oferecer serviços pela internet entre os anos de 2019 e 2020?"
   ]
  },
  {
   "cell_type": "code",
   "execution_count": 108,
   "id": "28de4ca2-6f4f-40d2-ae52-3614e8cd1944",
   "metadata": {
    "tags": []
   },
   "outputs": [
    {
     "data": {
      "text/html": [
       "<table border='1'>\n",
       "<tr><th>Ano_pesquisa</th><th>Qtd_bibliot_ofertam_servicos_pela_internet</th></tr>\n",
       "<tr><td>2019</td><td>2460</td></tr>\n",
       "<tr><td>2020</td><td>2339</td></tr>\n",
       "</table>\n"
      ],
      "text/plain": [
       "+------------+------------------------------------------+\n",
       "|Ano_pesquisa|Qtd_bibliot_ofertam_servicos_pela_internet|\n",
       "+------------+------------------------------------------+\n",
       "|        2019|                                      2460|\n",
       "|        2020|                                      2339|\n",
       "+------------+------------------------------------------+"
      ]
     },
     "execution_count": 108,
     "metadata": {},
     "output_type": "execute_result"
    }
   ],
   "source": [
    "spark.sql(\"select  nu_ano_censo as Ano_pesquisa, count(in_servico_internet) as Qtd_bibliot_ofertam_servicos_pela_internet \\\n",
    "from parquet_df_final \\\n",
    "where in_servico_internet = 1 and (nu_ano_censo = 2019 or nu_ano_censo = 2020) \\\n",
    "group by nu_ano_censo order by nu_ano_censo\")"
   ]
  },
  {
   "cell_type": "markdown",
   "id": "b678a13d-b960-43e3-9243-efc6e267a487",
   "metadata": {},
   "source": [
    "### 2. Houve crescimento ou queda no número de instituições? Qual estado teve o maior crescimento?"
   ]
  },
  {
   "cell_type": "code",
   "execution_count": 107,
   "id": "273dfe01-02d3-4975-bedb-2b2a49392330",
   "metadata": {},
   "outputs": [
    {
     "data": {
      "text/html": [
       "<table border='1'>\n",
       "<tr><th>Estado</th><th>Num_instituicoes_2019</th><th>Num_instituicoes_2020</th><th>Diferenca</th></tr>\n",
       "<tr><td>SC</td><td>100</td><td>104</td><td>4</td></tr>\n",
       "<tr><td>AM</td><td>23</td><td>25</td><td>2</td></tr>\n",
       "<tr><td>AP</td><td>14</td><td>15</td><td>1</td></tr>\n",
       "<tr><td>RR</td><td>8</td><td>8</td><td>0</td></tr>\n",
       "<tr><td>MS</td><td>35</td><td>34</td><td>-1</td></tr>\n",
       "<tr><td>AL</td><td>31</td><td>30</td><td>-1</td></tr>\n",
       "<tr><td>RN</td><td>29</td><td>28</td><td>-1</td></tr>\n",
       "<tr><td>TO</td><td>26</td><td>24</td><td>-2</td></tr>\n",
       "<tr><td>PA</td><td>73</td><td>71</td><td>-2</td></tr>\n",
       "<tr><td>SE</td><td>20</td><td>18</td><td>-2</td></tr>\n",
       "<tr><td>RJ</td><td>132</td><td>130</td><td>-2</td></tr>\n",
       "<tr><td>MA</td><td>55</td><td>53</td><td>-2</td></tr>\n",
       "<tr><td>RO</td><td>33</td><td>30</td><td>-3</td></tr>\n",
       "<tr><td>GO</td><td>108</td><td>105</td><td>-3</td></tr>\n",
       "<tr><td>AC</td><td>14</td><td>11</td><td>-3</td></tr>\n",
       "<tr><td>MT</td><td>68</td><td>64</td><td>-4</td></tr>\n",
       "<tr><td>CE</td><td>93</td><td>89</td><td>-4</td></tr>\n",
       "<tr><td>PI</td><td>46</td><td>41</td><td>-5</td></tr>\n",
       "<tr><td>PB</td><td>47</td><td>41</td><td>-6</td></tr>\n",
       "<tr><td>PE</td><td>120</td><td>114</td><td>-6</td></tr>\n",
       "<tr><td>MG</td><td>306</td><td>299</td><td>-7</td></tr>\n",
       "<tr><td>RS</td><td>122</td><td>112</td><td>-10</td></tr>\n",
       "<tr><td>DF</td><td>72</td><td>61</td><td>-11</td></tr>\n",
       "<tr><td>ES</td><td>79</td><td>66</td><td>-13</td></tr>\n",
       "<tr><td>BA</td><td>152</td><td>138</td><td>-14</td></tr>\n",
       "<tr><td>SP</td><td>611</td><td>583</td><td>-28</td></tr>\n",
       "<tr><td>PR</td><td>191</td><td>163</td><td>-28</td></tr>\n",
       "</table>\n"
      ],
      "text/plain": [
       "+------+---------------------+---------------------+---------+\n",
       "|Estado|Num_instituicoes_2019|Num_instituicoes_2020|Diferenca|\n",
       "+------+---------------------+---------------------+---------+\n",
       "|    SC|                  100|                  104|        4|\n",
       "|    AM|                   23|                   25|        2|\n",
       "|    AP|                   14|                   15|        1|\n",
       "|    RR|                    8|                    8|        0|\n",
       "|    MS|                   35|                   34|       -1|\n",
       "|    AL|                   31|                   30|       -1|\n",
       "|    RN|                   29|                   28|       -1|\n",
       "|    TO|                   26|                   24|       -2|\n",
       "|    PA|                   73|                   71|       -2|\n",
       "|    SE|                   20|                   18|       -2|\n",
       "|    RJ|                  132|                  130|       -2|\n",
       "|    MA|                   55|                   53|       -2|\n",
       "|    RO|                   33|                   30|       -3|\n",
       "|    GO|                  108|                  105|       -3|\n",
       "|    AC|                   14|                   11|       -3|\n",
       "|    MT|                   68|                   64|       -4|\n",
       "|    CE|                   93|                   89|       -4|\n",
       "|    PI|                   46|                   41|       -5|\n",
       "|    PB|                   47|                   41|       -6|\n",
       "|    PE|                  120|                  114|       -6|\n",
       "|    MG|                  306|                  299|       -7|\n",
       "|    RS|                  122|                  112|      -10|\n",
       "|    DF|                   72|                   61|      -11|\n",
       "|    ES|                   79|                   66|      -13|\n",
       "|    BA|                  152|                  138|      -14|\n",
       "|    SP|                  611|                  583|      -28|\n",
       "|    PR|                  191|                  163|      -28|\n",
       "+------+---------------------+---------------------+---------+"
      ]
     },
     "execution_count": 107,
     "metadata": {},
     "output_type": "execute_result"
    }
   ],
   "source": [
    "spark.sql(\"SELECT t.Estado, t.Num_instituicoes_2019, t.Num_instituicoes_2020, t.Num_instituicoes_2020 - t.Num_instituicoes_2019 AS Diferenca \\\n",
    "           FROM ( \\\n",
    "               SELECT sg_uf_ies AS Estado, \\\n",
    "                   SUM(CASE WHEN nu_ano_censo = 2019 THEN 1 ELSE 0 END) AS Num_instituicoes_2019, \\\n",
    "                   SUM(CASE WHEN nu_ano_censo = 2020 THEN 1 ELSE 0 END) AS Num_instituicoes_2020 \\\n",
    "               FROM parquet_df_final \\\n",
    "               GROUP BY sg_uf_ies \\\n",
    "           ) t \\\n",
    "           order by diferenca desc\")"
   ]
  },
  {
   "cell_type": "markdown",
   "id": "894f534a-aef1-40a2-b7ea-3851cb7402de",
   "metadata": {},
   "source": [
    "### 3. Houve quantas contratações durante o período da pandemia? O número de contratações superou 2019?"
   ]
  },
  {
   "cell_type": "code",
   "execution_count": 58,
   "id": "2410f82d-b7b0-4f79-8217-72a5db0e368d",
   "metadata": {},
   "outputs": [
    {
     "data": {
      "text/html": [
       "<table border='1'>\n",
       "<tr><th>Contrato_docentes</th><th>Ano_pesquisa</th></tr>\n",
       "<tr><td>399428</td><td>2019</td></tr>\n",
       "<tr><td>378492</td><td>2020</td></tr>\n",
       "</table>\n"
      ],
      "text/plain": [
       "+-----------------+------------+\n",
       "|Contrato_docentes|Ano_pesquisa|\n",
       "+-----------------+------------+\n",
       "|           399428|        2019|\n",
       "|           378492|        2020|\n",
       "+-----------------+------------+"
      ]
     },
     "execution_count": 58,
     "metadata": {},
     "output_type": "execute_result"
    }
   ],
   "source": [
    "spark.sql(\"select sum(qt_doc_total) as Contrato_docentes, nu_ano_censo as Ano_pesquisa from parquet_df_final group by nu_ano_censo\")"
   ]
  },
  {
   "cell_type": "markdown",
   "id": "2cddd2af-ed9e-4c0c-90b1-fc0aee0a9254",
   "metadata": {},
   "source": [
    "### 4. Quais tipos de organização acadêmica de cada região foram mais prejudicadas com demissões de funcionários em 2020? Informe o tipo de categoria administrativa"
   ]
  },
  {
   "cell_type": "code",
   "execution_count": 105,
   "id": "f58fc671-dd8e-4c67-a510-5561e2eab14f",
   "metadata": {},
   "outputs": [
    {
     "data": {
      "text/html": [
       "<table border='1'>\n",
       "<tr><th>Tipo_org_academica</th><th>Regiao</th><th>Contrato_docentes_2019</th><th>Contrato_docentes_2020</th><th>Diferenca</th></tr>\n",
       "<tr><td>1</td><td>Centro-Oeste</td><td>18796</td><td>18227</td><td>-569</td></tr>\n",
       "<tr><td>2</td><td>Centro-Oeste</td><td>6006</td><td>6344</td><td>338</td></tr>\n",
       "<tr><td>3</td><td>Centro-Oeste</td><td>10565</td><td>8452</td><td>-2113</td></tr>\n",
       "<tr><td>4</td><td>Centro-Oeste</td><td>3563</td><td>3325</td><td>-238</td></tr>\n",
       "<tr><td>1</td><td>Nordeste</td><td>47586</td><td>45085</td><td>-2501</td></tr>\n",
       "<tr><td>2</td><td>Nordeste</td><td>13558</td><td>14011</td><td>453</td></tr>\n",
       "<tr><td>3</td><td>Nordeste</td><td>22568</td><td>20385</td><td>-2183</td></tr>\n",
       "<tr><td>4</td><td>Nordeste</td><td>7808</td><td>6880</td><td>-928</td></tr>\n",
       "<tr><td>1</td><td>Norte</td><td>14773</td><td>13070</td><td>-1703</td></tr>\n",
       "<tr><td>2</td><td>Norte</td><td>3100</td><td>3581</td><td>481</td></tr>\n",
       "<tr><td>3</td><td>Norte</td><td>6545</td><td>5924</td><td>-621</td></tr>\n",
       "<tr><td>4</td><td>Norte</td><td>2536</td><td>2337</td><td>-199</td></tr>\n",
       "<tr><td>1</td><td>Sudeste</td><td>85028</td><td>82855</td><td>-2173</td></tr>\n",
       "<tr><td>2</td><td>Sudeste</td><td>27370</td><td>27097</td><td>-273</td></tr>\n",
       "<tr><td>3</td><td>Sudeste</td><td>46008</td><td>40811</td><td>-5197</td></tr>\n",
       "<tr><td>4</td><td>Sudeste</td><td>7251</td><td>7440</td><td>189</td></tr>\n",
       "<tr><td>5</td><td>Sudeste</td><td>1542</td><td>1569</td><td>27</td></tr>\n",
       "<tr><td>1</td><td>Sul</td><td>46984</td><td>45989</td><td>-995</td></tr>\n",
       "<tr><td>2</td><td>Sul</td><td>9175</td><td>8876</td><td>-299</td></tr>\n",
       "<tr><td>3</td><td>Sul</td><td>14066</td><td>11775</td><td>-2291</td></tr>\n",
       "<tr><td>4</td><td>Sul</td><td>4600</td><td>4459</td><td>-141</td></tr>\n",
       "</table>\n"
      ],
      "text/plain": [
       "+------------------+------------+----------------------+----------------------+---------+\n",
       "|Tipo_org_academica|      Regiao|Contrato_docentes_2019|Contrato_docentes_2020|Diferenca|\n",
       "+------------------+------------+----------------------+----------------------+---------+\n",
       "|                 1|Centro-Oeste|                 18796|                 18227|     -569|\n",
       "|                 2|Centro-Oeste|                  6006|                  6344|      338|\n",
       "|                 3|Centro-Oeste|                 10565|                  8452|    -2113|\n",
       "|                 4|Centro-Oeste|                  3563|                  3325|     -238|\n",
       "|                 1|    Nordeste|                 47586|                 45085|    -2501|\n",
       "|                 2|    Nordeste|                 13558|                 14011|      453|\n",
       "|                 3|    Nordeste|                 22568|                 20385|    -2183|\n",
       "|                 4|    Nordeste|                  7808|                  6880|     -928|\n",
       "|                 1|       Norte|                 14773|                 13070|    -1703|\n",
       "|                 2|       Norte|                  3100|                  3581|      481|\n",
       "|                 3|       Norte|                  6545|                  5924|     -621|\n",
       "|                 4|       Norte|                  2536|                  2337|     -199|\n",
       "|                 1|     Sudeste|                 85028|                 82855|    -2173|\n",
       "|                 2|     Sudeste|                 27370|                 27097|     -273|\n",
       "|                 3|     Sudeste|                 46008|                 40811|    -5197|\n",
       "|                 4|     Sudeste|                  7251|                  7440|      189|\n",
       "|                 5|     Sudeste|                  1542|                  1569|       27|\n",
       "|                 1|         Sul|                 46984|                 45989|     -995|\n",
       "|                 2|         Sul|                  9175|                  8876|     -299|\n",
       "|                 3|         Sul|                 14066|                 11775|    -2291|\n",
       "|                 4|         Sul|                  4600|                  4459|     -141|\n",
       "+------------------+------------+----------------------+----------------------+---------+"
      ]
     },
     "execution_count": 105,
     "metadata": {},
     "output_type": "execute_result"
    }
   ],
   "source": [
    "spark.sql(\"SELECT t.tp_organizacao_academica as Tipo_org_academica, t.no_regiao_ies as Regiao, t.Contrato_docentes_2019, t.Contrato_docentes_2020, t.Contrato_docentes_2020 - t.Contrato_docentes_2019 AS Diferenca \\\n",
    "           FROM ( \\\n",
    "               SELECT tp_organizacao_academica, no_regiao_ies, \\\n",
    "                   SUM(CASE WHEN nu_ano_censo = 2019 THEN qt_doc_total ELSE 0 END) AS Contrato_docentes_2019, \\\n",
    "                   SUM(CASE WHEN nu_ano_censo = 2020 THEN qt_doc_total ELSE 0 END) AS Contrato_docentes_2020 \\\n",
    "               FROM parquet_df_final \\\n",
    "               WHERE nu_ano_censo = 2019 OR nu_ano_censo = 2020 \\\n",
    "               GROUP BY tp_organizacao_academica, no_regiao_ies \\\n",
    "               ORDER BY no_regiao_ies, tp_organizacao_academica \\\n",
    "           ) t\")\n"
   ]
  },
  {
   "cell_type": "markdown",
   "id": "4885c40a-60f6-432f-a9d8-c6a63f80332f",
   "metadata": {},
   "source": [
    "#### NUM DO TIPO DE ORG. ACADÊMICA\n",
    "##### 1 - Universidade\n",
    "##### 2 - Centro Universitário\n",
    "##### 3 - Faculdade\n",
    "##### 4 - Instituto Federal de Educação, Ciência e Tecnologia\n",
    "##### 5 - Centro Federal de Educação Tecnológica"
   ]
  },
  {
   "cell_type": "markdown",
   "id": "4b9b6bcb-00de-4531-a413-b71cb9081ec2",
   "metadata": {},
   "source": [
    "### 5. Qual estado teve o maior número de admissões de docentes entre 35 e 54 anos, em 2020."
   ]
  },
  {
   "cell_type": "code",
   "execution_count": 106,
   "id": "cd7e613a-2a4d-45d9-8205-eda85893b875",
   "metadata": {},
   "outputs": [
    {
     "data": {
      "text/html": [
       "<table border='1'>\n",
       "<tr><th>Estado</th><th>Docentes_35_54_2019</th><th>Docentes_35_54_2020</th><th>Diferenca</th></tr>\n",
       "<tr><td>SC</td><td>11136</td><td>11274</td><td>138</td></tr>\n",
       "<tr><td>PB</td><td>5822</td><td>5936</td><td>114</td></tr>\n",
       "<tr><td>SE</td><td>2451</td><td>2488</td><td>37</td></tr>\n",
       "<tr><td>AM</td><td>3117</td><td>3135</td><td>18</td></tr>\n",
       "<tr><td>RN</td><td>3889</td><td>3903</td><td>14</td></tr>\n",
       "<tr><td>CE</td><td>7967</td><td>7970</td><td>3</td></tr>\n",
       "<tr><td>PE</td><td>8316</td><td>8308</td><td>-8</td></tr>\n",
       "<tr><td>AP</td><td>1031</td><td>1017</td><td>-14</td></tr>\n",
       "<tr><td>RR</td><td>782</td><td>754</td><td>-28</td></tr>\n",
       "<tr><td>MS</td><td>3649</td><td>3601</td><td>-48</td></tr>\n",
       "<tr><td>PI</td><td>3494</td><td>3445</td><td>-49</td></tr>\n",
       "<tr><td>AL</td><td>3041</td><td>2969</td><td>-72</td></tr>\n",
       "<tr><td>AC</td><td>975</td><td>879</td><td>-96</td></tr>\n",
       "<tr><td>RO</td><td>1754</td><td>1650</td><td>-104</td></tr>\n",
       "<tr><td>RJ</td><td>18529</td><td>18372</td><td>-157</td></tr>\n",
       "<tr><td>TO</td><td>2320</td><td>2136</td><td>-184</td></tr>\n",
       "<tr><td>GO</td><td>8250</td><td>8024</td><td>-226</td></tr>\n",
       "<tr><td>ES</td><td>4588</td><td>4269</td><td>-319</td></tr>\n",
       "<tr><td>PA</td><td>5625</td><td>5302</td><td>-323</td></tr>\n",
       "<tr><td>DF</td><td>5871</td><td>5296</td><td>-575</td></tr>\n",
       "<tr><td>MA</td><td>4451</td><td>3839</td><td>-612</td></tr>\n",
       "<tr><td>RS</td><td>15371</td><td>14747</td><td>-624</td></tr>\n",
       "<tr><td>PR</td><td>17831</td><td>17146</td><td>-685</td></tr>\n",
       "<tr><td>MT</td><td>4861</td><td>4115</td><td>-746</td></tr>\n",
       "<tr><td>BA</td><td>12820</td><td>11858</td><td>-962</td></tr>\n",
       "<tr><td>MG</td><td>27529</td><td>26422</td><td>-1107</td></tr>\n",
       "<tr><td>SP</td><td>48360</td><td>45891</td><td>-2469</td></tr>\n",
       "</table>\n"
      ],
      "text/plain": [
       "+------+-------------------+-------------------+---------+\n",
       "|Estado|Docentes_35_54_2019|Docentes_35_54_2020|Diferenca|\n",
       "+------+-------------------+-------------------+---------+\n",
       "|    SC|              11136|              11274|      138|\n",
       "|    PB|               5822|               5936|      114|\n",
       "|    SE|               2451|               2488|       37|\n",
       "|    AM|               3117|               3135|       18|\n",
       "|    RN|               3889|               3903|       14|\n",
       "|    CE|               7967|               7970|        3|\n",
       "|    PE|               8316|               8308|       -8|\n",
       "|    AP|               1031|               1017|      -14|\n",
       "|    RR|                782|                754|      -28|\n",
       "|    MS|               3649|               3601|      -48|\n",
       "|    PI|               3494|               3445|      -49|\n",
       "|    AL|               3041|               2969|      -72|\n",
       "|    AC|                975|                879|      -96|\n",
       "|    RO|               1754|               1650|     -104|\n",
       "|    RJ|              18529|              18372|     -157|\n",
       "|    TO|               2320|               2136|     -184|\n",
       "|    GO|               8250|               8024|     -226|\n",
       "|    ES|               4588|               4269|     -319|\n",
       "|    PA|               5625|               5302|     -323|\n",
       "|    DF|               5871|               5296|     -575|\n",
       "|    MA|               4451|               3839|     -612|\n",
       "|    RS|              15371|              14747|     -624|\n",
       "|    PR|              17831|              17146|     -685|\n",
       "|    MT|               4861|               4115|     -746|\n",
       "|    BA|              12820|              11858|     -962|\n",
       "|    MG|              27529|              26422|    -1107|\n",
       "|    SP|              48360|              45891|    -2469|\n",
       "+------+-------------------+-------------------+---------+"
      ]
     },
     "execution_count": 106,
     "metadata": {},
     "output_type": "execute_result"
    }
   ],
   "source": [
    "spark.sql(\"SELECT t.sg_uf_ies as Estado, t.Docentes_35_54_2019, t.Docentes_35_54_2020, t.Docentes_35_54_2020 - t.Docentes_35_54_2019 AS Diferenca \\\n",
    "           FROM ( \\\n",
    "               SELECT sg_uf_ies, \\\n",
    "                   SUM(CASE WHEN nu_ano_censo = 2019 THEN qt_doc_ex_35_39 + qt_doc_ex_40_44 + qt_doc_ex_45_49 + qt_doc_ex_50_54 ELSE 0 END) AS Docentes_35_54_2019, \\\n",
    "                   SUM(CASE WHEN nu_ano_censo = 2020 THEN qt_doc_ex_35_39 + qt_doc_ex_40_44 + qt_doc_ex_45_49 + qt_doc_ex_50_54 ELSE 0 END) AS Docentes_35_54_2020 \\\n",
    "               FROM parquet_df_final \\\n",
    "               WHERE nu_ano_censo = 2019 OR nu_ano_censo = 2020 \\\n",
    "               GROUP BY sg_uf_ies \\\n",
    "           ) t \\\n",
    "           ORDER BY diferenca DESC \\\n",
    "           LIMIT 54\")"
   ]
  },
  {
   "cell_type": "code",
   "execution_count": null,
   "id": "7951825b-3535-4168-b0a2-5b333f067efd",
   "metadata": {},
   "outputs": [],
   "source": []
  }
 ],
 "metadata": {
  "kernelspec": {
   "display_name": "Python 3 (ipykernel)",
   "language": "python",
   "name": "python3"
  },
  "language_info": {
   "codemirror_mode": {
    "name": "ipython",
    "version": 3
   },
   "file_extension": ".py",
   "mimetype": "text/x-python",
   "name": "python",
   "nbconvert_exporter": "python",
   "pygments_lexer": "ipython3",
   "version": "3.10.11"
  }
 },
 "nbformat": 4,
 "nbformat_minor": 5
}
